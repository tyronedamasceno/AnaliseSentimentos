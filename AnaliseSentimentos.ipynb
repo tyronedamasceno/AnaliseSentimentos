{
  "nbformat": 4,
  "nbformat_minor": 0,
  "metadata": {
    "colab": {
      "name": "AnaliseSentimentos.ipynb",
      "version": "0.3.2",
      "provenance": [],
      "collapsed_sections": []
    },
    "kernelspec": {
      "name": "python3",
      "display_name": "Python 3"
    },
    "accelerator": "GPU"
  },
  "cells": [
    {
      "metadata": {
        "id": "IATYuH2LylDS",
        "colab_type": "code",
        "colab": {
          "base_uri": "https://localhost:8080/",
          "height": 411
        },
        "outputId": "4e1874de-85d7-4ef6-e412-4a6b0967d8f8"
      },
      "cell_type": "code",
      "source": [
        "!pip3 install TweePy TextBlob numpy"
      ],
      "execution_count": 6,
      "outputs": [
        {
          "output_type": "stream",
          "text": [
            "Collecting TweePy\n",
            "  Downloading https://files.pythonhosted.org/packages/05/f1/2e8c7b202dd04117a378ac0c55cc7dafa80280ebd7f692f1fa8f27fd6288/tweepy-3.6.0-py2.py3-none-any.whl\n",
            "Requirement already satisfied: TextBlob in /usr/local/lib/python3.6/dist-packages (0.15.1)\n",
            "Requirement already satisfied: numpy in /usr/local/lib/python3.6/dist-packages (1.14.6)\n",
            "Requirement already satisfied: requests-oauthlib>=0.7.0 in /usr/local/lib/python3.6/dist-packages (from TweePy) (1.0.0)\n",
            "Requirement already satisfied: requests>=2.11.1 in /usr/local/lib/python3.6/dist-packages (from TweePy) (2.18.4)\n",
            "Collecting PySocks>=1.5.7 (from TweePy)\n",
            "\u001b[?25l  Downloading https://files.pythonhosted.org/packages/53/12/6bf1d764f128636cef7408e8156b7235b150ea31650d0260969215bb8e7d/PySocks-1.6.8.tar.gz (283kB)\n",
            "\r\u001b[K    3% |█▏                              | 10kB 23.3MB/s eta 0:00:01\r\u001b[K    7% |██▎                             | 20kB 7.4MB/s eta 0:00:01\r\u001b[K    10% |███▌                            | 30kB 10.4MB/s eta 0:00:01\r\u001b[K    14% |████▋                           | 40kB 7.5MB/s eta 0:00:01\r\u001b[K    18% |█████▉                          | 51kB 7.2MB/s eta 0:00:01\r\u001b[K    21% |███████                         | 61kB 8.4MB/s eta 0:00:01\r\u001b[K    25% |████████                        | 71kB 8.1MB/s eta 0:00:01\r\u001b[K    28% |█████████▎                      | 81kB 7.3MB/s eta 0:00:01\r\u001b[K    32% |██████████▍                     | 92kB 8.1MB/s eta 0:00:01\r\u001b[K    36% |███████████▋                    | 102kB 8.0MB/s eta 0:00:01\r\u001b[K    39% |████████████▊                   | 112kB 8.0MB/s eta 0:00:01\r\u001b[K    43% |█████████████▉                  | 122kB 8.5MB/s eta 0:00:01\r\u001b[K    46% |███████████████                 | 133kB 7.3MB/s eta 0:00:01\r\u001b[K    50% |████████████████▏               | 143kB 8.7MB/s eta 0:00:01\r\u001b[K    54% |█████████████████▍              | 153kB 8.8MB/s eta 0:00:01\r\u001b[K    57% |██████████████████▌             | 163kB 8.0MB/s eta 0:00:01\r\u001b[K    61% |███████████████████▋            | 174kB 8.8MB/s eta 0:00:01\r\u001b[K    65% |████████████████████▉           | 184kB 9.0MB/s eta 0:00:01\r\u001b[K    68% |██████████████████████          | 194kB 9.0MB/s eta 0:00:01\r\u001b[K    72% |███████████████████████▏        | 204kB 9.6MB/s eta 0:00:01\r\u001b[K    75% |████████████████████████▎       | 215kB 9.0MB/s eta 0:00:01\r\u001b[K    79% |█████████████████████████▍      | 225kB 9.4MB/s eta 0:00:01\r\u001b[K    83% |██████████████████████████▋     | 235kB 9.1MB/s eta 0:00:01\r\u001b[K    86% |███████████████████████████▊    | 245kB 9.1MB/s eta 0:00:01\r\u001b[K    90% |█████████████████████████████   | 256kB 9.6MB/s eta 0:00:01\r\u001b[K    93% |██████████████████████████████  | 266kB 10.5MB/s eta 0:00:01\r\u001b[K    97% |███████████████████████████████▏| 276kB 9.4MB/s eta 0:00:01\r\u001b[K    100% |████████████████████████████████| 286kB 9.4MB/s \n",
            "\u001b[?25hRequirement already satisfied: six>=1.10.0 in /usr/local/lib/python3.6/dist-packages (from TweePy) (1.11.0)\n",
            "Requirement already satisfied: nltk>=3.1 in /usr/local/lib/python3.6/dist-packages (from TextBlob) (3.2.5)\n",
            "Requirement already satisfied: oauthlib>=0.6.2 in /usr/local/lib/python3.6/dist-packages (from requests-oauthlib>=0.7.0->TweePy) (2.1.0)\n",
            "Requirement already satisfied: certifi>=2017.4.17 in /usr/local/lib/python3.6/dist-packages (from requests>=2.11.1->TweePy) (2018.10.15)\n",
            "Requirement already satisfied: urllib3<1.23,>=1.21.1 in /usr/local/lib/python3.6/dist-packages (from requests>=2.11.1->TweePy) (1.22)\n",
            "Requirement already satisfied: chardet<3.1.0,>=3.0.2 in /usr/local/lib/python3.6/dist-packages (from requests>=2.11.1->TweePy) (3.0.4)\n",
            "Requirement already satisfied: idna<2.7,>=2.5 in /usr/local/lib/python3.6/dist-packages (from requests>=2.11.1->TweePy) (2.6)\n",
            "Building wheels for collected packages: PySocks\n",
            "  Running setup.py bdist_wheel for PySocks ... \u001b[?25l-\b \bdone\n",
            "\u001b[?25h  Stored in directory: /root/.cache/pip/wheels/22/5c/b5/12e0dfdfa85bea67b23628b6425fae715c687e947a45ee3df9\n",
            "Successfully built PySocks\n",
            "Installing collected packages: PySocks, TweePy\n",
            "Successfully installed PySocks-1.6.8 TweePy-3.6.0\n"
          ],
          "name": "stdout"
        }
      ]
    },
    {
      "metadata": {
        "id": "Or5sxNKl16FQ",
        "colab_type": "code",
        "colab": {}
      },
      "cell_type": "code",
      "source": [
        "import tweepy\n",
        "import numpy as np\n",
        "from textblob import TextBlob"
      ],
      "execution_count": 0,
      "outputs": []
    },
    {
      "metadata": {
        "id": "jaegB9hU1vh_",
        "colab_type": "code",
        "colab": {}
      },
      "cell_type": "code",
      "source": [
        "consumer_key='your_consumer_key'\n",
        "consumer_secret='your_consumer_secret_key'\n",
        "\n",
        "access_token='your_access_token'\n",
        "access_token_secret='your_access_token_secret'"
      ],
      "execution_count": 0,
      "outputs": []
    },
    {
      "metadata": {
        "id": "9B86h6EW2_z-",
        "colab_type": "code",
        "colab": {
          "base_uri": "https://localhost:8080/",
          "height": 34
        },
        "outputId": "59e61ff1-0348-493d-a6ec-1fae81c560f7"
      },
      "cell_type": "code",
      "source": [
        "auth = tweepy.OAuthHandler(consumer_key,consumer_secret)\n",
        "auth.set_access_token(access_token,access_token_secret)\n",
        "\n",
        "api = tweepy.API(auth)\n",
        "\n",
        "api"
      ],
      "execution_count": 11,
      "outputs": [
        {
          "output_type": "execute_result",
          "data": {
            "text/plain": [
              "<tweepy.api.API at 0x7f0608db5ef0>"
            ]
          },
          "metadata": {
            "tags": []
          },
          "execution_count": 11
        }
      ]
    },
    {
      "metadata": {
        "id": "vOCumvnE2WTT",
        "colab_type": "code",
        "colab": {
          "base_uri": "https://localhost:8080/",
          "height": 68
        },
        "outputId": "695769a2-4a81-4ef4-9781-4799417dda61"
      },
      "cell_type": "code",
      "source": [
        "tweets = api.search('Python Brasil -filter:retweets')\n",
        "#tweets\n",
        "\n",
        "for tweet in tweets:\n",
        "    phrase = TextBlob(tweet.text)\n",
        "    \n",
        "phrase"
      ],
      "execution_count": 17,
      "outputs": [
        {
          "output_type": "execute_result",
          "data": {
            "text/plain": [
              "TextBlob(\"@jessicamorim42 @letuche Super aqui, estamos começando a criar um grupo de PSPBA\n",
              "\n",
              "Pythonistas sem python Brasil anônimos\")"
            ]
          },
          "metadata": {
            "tags": []
          },
          "execution_count": 17
        }
      ]
    },
    {
      "metadata": {
        "id": "nXAwakXK33Oh",
        "colab_type": "code",
        "colab": {}
      },
      "cell_type": "code",
      "source": [
        "def is_english(text):\n",
        "    if text.detect_language() == 'en':\n",
        "        return True\n",
        "    return False"
      ],
      "execution_count": 0,
      "outputs": []
    },
    {
      "metadata": {
        "id": "CLX3_XnP3-A4",
        "colab_type": "code",
        "colab": {}
      },
      "cell_type": "code",
      "source": [
        "def tweet_analysis(query, items=20):\n",
        "\n",
        "  tweets = tweepy.Cursor(api.search, q=query + \" -filter:retweets\", result_type=\"recent\").items(items)\n",
        "  \n",
        "  polarities = []\n",
        "  subjectivities = []\n",
        "  \n",
        "  for tweet in tweets:\n",
        "      phrase = TextBlob(tweet.text)\n",
        "\n",
        "      #if not is_english(phrase):\n",
        "       #   phrase = TextBlob(str(phrase.translate(to='en')))\n",
        "\n",
        "      if (phrase.sentiment.polarity != 0.0 and phrase.sentiment.subjectivity != 0.0):\n",
        "          polarities.append(phrase.sentiment.polarity)\n",
        "          subjectivities.append(phrase.sentiment.subjectivity)\n",
        "      \n",
        "      #print('Tweet: ' + tweet.text)\n",
        "      #print('Polarity: ' + str(phrase.sentiment.polarity) + \" \\ \" + str(phrase.sentiment.subjectivity))\n",
        "      #print('.....................')\n",
        "      \n",
        "  return {'polarity':polarities, 'subjectivity': subjectivities}"
      ],
      "execution_count": 0,
      "outputs": []
    },
    {
      "metadata": {
        "id": "_f7-Zk5C6DnR",
        "colab_type": "code",
        "colab": {
          "base_uri": "https://localhost:8080/",
          "height": 459
        },
        "outputId": "666794dc-30d9-448a-f28f-0863f7689156"
      },
      "cell_type": "code",
      "source": [
        "polarities = tweet_analysis('Python Brasil')\n",
        "polarities"
      ],
      "execution_count": 69,
      "outputs": [
        {
          "output_type": "execute_result",
          "data": {
            "text/plain": [
              "{'polarity': [0.5,\n",
              "  1.0,\n",
              "  -0.025,\n",
              "  0.2,\n",
              "  0.125,\n",
              "  0.25,\n",
              "  0.3333333333333333,\n",
              "  0.5,\n",
              "  -0.11666666666666665,\n",
              "  0.16666666666666666,\n",
              "  1.0,\n",
              "  0.05555555555555556,\n",
              "  0.21428571428571427],\n",
              " 'subjectivity': [0.5,\n",
              "  0.3,\n",
              "  0.575,\n",
              "  0.4,\n",
              "  0.3125,\n",
              "  0.75,\n",
              "  0.6666666666666666,\n",
              "  0.5,\n",
              "  0.5333333333333333,\n",
              "  0.3833333333333333,\n",
              "  0.9,\n",
              "  0.6333333333333333,\n",
              "  0.5714285714285714]}"
            ]
          },
          "metadata": {
            "tags": []
          },
          "execution_count": 69
        }
      ]
    },
    {
      "metadata": {
        "id": "MaqbfZXt6w9s",
        "colab_type": "code",
        "colab": {
          "base_uri": "https://localhost:8080/",
          "height": 51
        },
        "outputId": "24675db2-92c6-4311-b36c-76c04dda422a"
      },
      "cell_type": "code",
      "source": [
        "polarity_mean = np.mean(polarities['polarity'])\n",
        "\n",
        "print('Média: ' + str(polarity_mean))\n",
        "if(polarity_mean > 0.0):\n",
        "    print('POSITIVE')\n",
        "else:\n",
        "    print('NEGATIVE')"
      ],
      "execution_count": 64,
      "outputs": [
        {
          "output_type": "stream",
          "text": [
            "Média: 0.3233211233211233\n",
            "POSITIVE\n"
          ],
          "name": "stdout"
        }
      ]
    },
    {
      "metadata": {
        "id": "5ruLFZTp8I3o",
        "colab_type": "code",
        "colab": {}
      },
      "cell_type": "code",
      "source": [
        "def get_weighted_polarity_mean(valid_tweets):\n",
        "    return np.average(valid_tweets['polarity'],weights=valid_tweets['subjectivity'])\n",
        "  \n",
        "def get_polarity_mean(valid_tweets):\n",
        "    return np.mean(valid_tweets['polarity'])"
      ],
      "execution_count": 0,
      "outputs": []
    },
    {
      "metadata": {
        "id": "kSN8U3B59wFj",
        "colab_type": "code",
        "colab": {
          "base_uri": "https://localhost:8080/",
          "height": 34
        },
        "outputId": "eab4ef10-e225-4f3f-ae86-651a91c0d195"
      },
      "cell_type": "code",
      "source": [
        "get_polarity_mean(polarities)"
      ],
      "execution_count": 70,
      "outputs": [
        {
          "output_type": "execute_result",
          "data": {
            "text/plain": [
              "0.3233211233211233"
            ]
          },
          "metadata": {
            "tags": []
          },
          "execution_count": 70
        }
      ]
    },
    {
      "metadata": {
        "id": "Nq06Kt4y87bI",
        "colab_type": "code",
        "colab": {
          "base_uri": "https://localhost:8080/",
          "height": 34
        },
        "outputId": "c80ce7de-4e9d-4301-cd10-64f67ebd887f"
      },
      "cell_type": "code",
      "source": [
        "get_weighted_polarity_mean(polarities)"
      ],
      "execution_count": 71,
      "outputs": [
        {
          "output_type": "execute_result",
          "data": {
            "text/plain": [
              "0.337866112866113"
            ]
          },
          "metadata": {
            "tags": []
          },
          "execution_count": 71
        }
      ]
    },
    {
      "metadata": {
        "id": "FR428--r_Csc",
        "colab_type": "code",
        "colab": {}
      },
      "cell_type": "code",
      "source": [
        "def print_result(mean):\n",
        "    if mean > 0.0:\n",
        "        print('POSITIVE')\n",
        "    elif mean == 0.0:\n",
        "        print('NEUTRO')\n",
        "    else:\n",
        "        print('NEGATIVE')"
      ],
      "execution_count": 0,
      "outputs": []
    },
    {
      "metadata": {
        "id": "BaZ9q4d0_Mhk",
        "colab_type": "code",
        "colab": {
          "base_uri": "https://localhost:8080/",
          "height": 102
        },
        "outputId": "6592ccfe-1163-415c-e49a-bdce2d15da13"
      },
      "cell_type": "code",
      "source": [
        "query = input(\"Entre a query de analise: \")\n",
        "analysis = tweet_analysis(query)\n",
        "\n",
        "print('MÉDIA PONDERADA: ' + str(get_weighted_polarity_mean(analysis)))\n",
        "print_result(get_weighted_polarity_mean(analysis))\n",
        "\n",
        "print('MÉDIA: ' + str(get_polarity_mean(analysis)))\n",
        "print_result(get_polarity_mean(analysis))"
      ],
      "execution_count": 86,
      "outputs": [
        {
          "output_type": "stream",
          "text": [
            "Entre a query de analise: War\n",
            "MÉDIA PONDERADA: 0.01989147707605656\n",
            "POSITIVE\n",
            "MÉDIA: 0.032638888888888905\n",
            "POSITIVE\n"
          ],
          "name": "stdout"
        }
      ]
    }
  ]
}